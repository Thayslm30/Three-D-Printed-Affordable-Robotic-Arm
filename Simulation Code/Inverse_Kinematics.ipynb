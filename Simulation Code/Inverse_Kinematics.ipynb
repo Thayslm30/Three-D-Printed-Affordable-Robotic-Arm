{
 "cells": [
  {
   "cell_type": "code",
   "execution_count": 4,
   "id": "9c35e57b-f53b-42c3-b7e2-f11e906e5ba0",
   "metadata": {},
   "outputs": [
    {
     "name": "stdout",
     "output_type": "stream",
     "text": [
      "You can open the visualizer by visiting the following URL:\n",
      "http://127.0.0.1:7016/static/\n",
      "Converged in 92 iterations.\n",
      "Final joint configuration: [0.7854 0.4561 1.4537 0.    ]\n"
     ]
    }
   ],
   "source": [
    "import time\n",
    "import numpy as np\n",
    "import pinocchio as pin\n",
    "import os\n",
    "import meshcat\n",
    "import matplotlib.pyplot as plt\n",
    "import scipy\n",
    "\n",
    "np.set_printoptions(suppress=True, precision=4) \n",
    "package_dirs = './urdf/' \n",
    "urdf_file = 'tara.urdf'  \n",
    "\n",
    "urdf = package_dirs + urdf_file\n",
    "robot = pinocchio.RobotWrapper.BuildFromURDF(urdf, package_dirs)\n",
    "END_EFF_FRAME_ID = robot.model.getFrameId('end_effector') \n",
    "viz = pinocchio.visualize.MeshcatVisualizer(robot.model, robot.collision_model, robot.visual_model)\n",
    "try:\n",
    "    viz.initViewer(open=True)\n",
    "except ImportError as err:\n",
    "    print(\"Error while initializing the viewer\")\n",
    "    print(err)\n",
    "    sys.exit(0)\n",
    "viz.loadViewerModel()\n",
    "q = pinocchio.neutral(robot.model)\n",
    "viz.display(q) \n",
    "\n",
    "def compute_error(desired_pos, current_pos):\n",
    "    return desired_pos - current_pos\n",
    "    \n",
    "def inverse_kinematics(robot, q_init, desired_pos, max_iters=100, tol=1e-4, alpha=0.1):\n",
    "    # Start with the initial guess for joint angles\n",
    "    q = q_init.copy()  \n",
    "    \n",
    "    for i in range(max_iters):\n",
    "        pin.forwardKinematics(robot.model, robot.data, q)\n",
    "        pin.updateFramePlacements(robot.model, robot.data)\n",
    "        current_pos = robot.data.oMf[END_EFF_FRAME_ID].translation\n",
    "        error = compute_error(desired_pos, current_pos)\n",
    "        if np.linalg.norm(error) < tol:\n",
    "            print(f\"Converged in {i+1} iterations.\")\n",
    "            return q\n",
    "        \n",
    "        # Compute the Jacobian of the end-effector\n",
    "        J = pin.computeFrameJacobian(robot.model, robot.data, q, END_EFF_FRAME_ID, pin.LOCAL_WORLD_ALIGNED)[:3, :]\n",
    "        \n",
    "        q += alpha * np.linalg.pinv(J).dot(error)\n",
    "    \n",
    "    print(f\"Reached max iterations. Final error: {np.linalg.norm(error)}\")\n",
    "    return q\n",
    "\n",
    "q_init = pin.neutral(robot.model)\n",
    "desired_position = np.array([1, 1, 1])\n",
    "q_solution = inverse_kinematics(robot, q_init, desired_position)\n",
    "viz.display(q_solution)\n",
    "print(\"Final joint configuration:\", q_solution)"
   ]
  },
  {
   "cell_type": "code",
   "execution_count": null,
   "id": "0567aaf4-229c-4608-a648-900403910139",
   "metadata": {},
   "outputs": [],
   "source": []
  }
 ],
 "metadata": {
  "kernelspec": {
   "display_name": "Python 3 (ipykernel)",
   "language": "python",
   "name": "python3"
  },
  "language_info": {
   "codemirror_mode": {
    "name": "ipython",
    "version": 3
   },
   "file_extension": ".py",
   "mimetype": "text/x-python",
   "name": "python",
   "nbconvert_exporter": "python",
   "pygments_lexer": "ipython3",
   "version": "3.11.8"
  }
 },
 "nbformat": 4,
 "nbformat_minor": 5
}
