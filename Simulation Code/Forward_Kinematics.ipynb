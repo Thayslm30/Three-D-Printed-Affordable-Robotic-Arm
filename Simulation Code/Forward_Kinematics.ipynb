{
 "cells": [
  {
   "cell_type": "code",
   "execution_count": 1,
   "id": "82b5585b-ca7c-4bea-8b4d-3d6a5c190d90",
   "metadata": {},
   "outputs": [
    {
     "name": "stdout",
     "output_type": "stream",
     "text": [
      "You can open the visualizer by visiting the following URL:\n",
      "http://127.0.0.1:7425/static/\n",
      "End-effector position:  [0.07 0.   1.08]\n"
     ]
    }
   ],
   "source": [
    "import time\n",
    "import numpy as np\n",
    "import pinocchio\n",
    "import os\n",
    "import meshcat\n",
    "import matplotlib.pyplot as plt\n",
    "import scipy\n",
    "\n",
    "np.set_printoptions(suppress=True, precision=4) \n",
    "package_dirs = './urdf/' \n",
    "urdf_file = 'tara.urdf'  \n",
    "\n",
    "urdf = package_dirs + urdf_file\n",
    "robot = pinocchio.RobotWrapper.BuildFromURDF(urdf, package_dirs)\n",
    "END_EFF_FRAME_ID = robot.model.getFrameId('end_effector') \n",
    "viz = pinocchio.visualize.MeshcatVisualizer(robot.model, robot.collision_model, robot.visual_model)\n",
    "try:\n",
    "    viz.initViewer(open=True)\n",
    "except ImportError as err:\n",
    "    print(\"Error while initializing the viewer\")\n",
    "    print(err)\n",
    "    sys.exit(0)\n",
    "viz.loadViewerModel()\n",
    "q = pinocchio.neutral(robot.model)\n",
    "viz.display(q)  # To update the Meshcat display\n",
    "def forward_kinematics(q):\n",
    "    # Compute forward kinematics based on the joint values in q\n",
    "    pinocchio.forwardKinematics(robot.model, robot.data, q)\n",
    "    \n",
    "    # Update the position of all the frames \n",
    "    pinocchio.updateFramePlacements(robot.model, robot.data)\n",
    "    \n",
    "    # Display the current robot configuration in Meshcat\n",
    "    viz.display(q)\n",
    "    \n",
    "    # Get the current position of the end-effector\n",
    "    end_effector_pos = robot.data.oMf[END_EFF_FRAME_ID].translation\n",
    "    print(\"End-effector position: \", end_effector_pos)\n",
    "\n",
    "# Joint configurations \n",
    "q = pinocchio.neutral(robot.model)  # Initialize to neutral position\n",
    "\n",
    "q[0] = np.radians(0)    # Joint 0: Rotate about Z-axis (base joint)\n",
    "q[1] = np.radians(0)  # Joint 1: Rotate about X-axis (Link 0 to Link 1)\n",
    "q[2] = np.radians(0)   # Joint 2: Rotate about X-axis (Link 1 to Link 2) \n",
    "q[3] = np.radians(0)   # Joint 3: Rotate about X-axis (Link 2 to End-Effector)\n",
    "\n",
    "forward_kinematics(q)\n"
   ]
  },
  {
   "cell_type": "code",
   "execution_count": null,
   "id": "a41c72ad-e976-4685-b750-522f0f3f8fb6",
   "metadata": {},
   "outputs": [],
   "source": []
  }
 ],
 "metadata": {
  "kernelspec": {
   "display_name": "Python 3 (ipykernel)",
   "language": "python",
   "name": "python3"
  },
  "language_info": {
   "codemirror_mode": {
    "name": "ipython",
    "version": 3
   },
   "file_extension": ".py",
   "mimetype": "text/x-python",
   "name": "python",
   "nbconvert_exporter": "python",
   "pygments_lexer": "ipython3",
   "version": "3.11.8"
  }
 },
 "nbformat": 4,
 "nbformat_minor": 5
}
